{
  "nbformat": 4,
  "nbformat_minor": 0,
  "metadata": {
    "colab": {
      "name": "UNIPE - 1 - Exploração de Dados - Manipulação Pandas, Numpy, scipy, matplotlib .ipynb",
      "provenance": [],
      "authorship_tag": "ABX9TyPq/0ohMBtySbTua4TPFmAF",
      "include_colab_link": true
    },
    "kernelspec": {
      "name": "python3",
      "display_name": "Python 3"
    },
    "language_info": {
      "name": "python"
    }
  },
  "cells": [
    {
      "cell_type": "markdown",
      "metadata": {
        "id": "view-in-github",
        "colab_type": "text"
      },
      "source": [
        "<a href=\"https://colab.research.google.com/github/jennerson/Data-Science/blob/main/UNIPE_1_Explora%C3%A7%C3%A3o_de_Dados_Manipula%C3%A7%C3%A3o_Pandas%2C_Numpy%2C_scipy%2C_matplotlib_.ipynb\" target=\"_parent\"><img src=\"https://colab.research.google.com/assets/colab-badge.svg\" alt=\"Open In Colab\"/></a>"
      ]
    },
    {
      "cell_type": "markdown",
      "metadata": {
        "id": "Agd7RvWFTRpY"
      },
      "source": [
        "**Primeira aula de Ciencia de Dados** - Autor:Jennerson Barbosa - Data:25/11/21"
      ]
    },
    {
      "cell_type": "code",
      "metadata": {
        "id": "l6q1ilsfTylY"
      },
      "source": [
        "#Exploração de Dados - Manipulação Pandas, Numpy, scipy, matplotlib, seaborn\n",
        "#Autor: Jennerson Barbosa\n",
        "#Data: 25/11/2021"
      ],
      "execution_count": 4,
      "outputs": []
    },
    {
      "cell_type": "code",
      "metadata": {
        "id": "OsN9K4rTT46V"
      },
      "source": [
        "# Import das bibliotecas de Ciencia de Dados necessárioas para execução dos trabalhos.\n",
        "\n",
        "import numpy as np\n",
        "import scipy as sp\n",
        "import pandas as pd\n",
        "import matplotlib.pyplot as plt\n",
        "import seaborn as sns"
      ],
      "execution_count": 5,
      "outputs": []
    },
    {
      "cell_type": "code",
      "metadata": {
        "id": "X9UlL5HxUZcu"
      },
      "source": [
        "#Criando um objeto do tipo DF (Data Frame) para armazenar o conteúdo dos dados existentes no arquivo de salarios.\n",
        "df = pd.read_csv(\"Salaries.csv\")"
      ],
      "execution_count": 6,
      "outputs": []
    },
    {
      "cell_type": "code",
      "metadata": {
        "id": "fgSRp-4PVWLk"
      },
      "source": [
        "#Exibir as primeiras linhas do meu data frame com o comando head().\n",
        "df.head(15)"
      ],
      "execution_count": null,
      "outputs": []
    },
    {
      "cell_type": "code",
      "metadata": {
        "id": "vB3cQgogVtWN"
      },
      "source": [
        ""
      ],
      "execution_count": null,
      "outputs": []
    }
  ]
}